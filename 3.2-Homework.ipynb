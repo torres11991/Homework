{
 "cells": [
  {
   "cell_type": "code",
   "execution_count": 10,
   "metadata": {},
   "outputs": [
    {
     "name": "stdout",
     "output_type": "stream",
     "text": [
      "['shoes', 'wallet', 'keys', 'phone', 'card', \"Mike n Ike's\"]\n",
      "6\n",
      "['shoes', 'wallet', 'keys', 'phone', \"Mike n Ike's\"]\n",
      "Extended list... ['shoes', 'wallet', 'keys', 'phone', \"Mike n Ike's\", 'shoes', 'wallet', 'keys', 'phone', \"Mike n Ike's\"]\n"
     ]
    }
   ],
   "source": [
    "# Lists with square brackets\n",
    "five_elements = [\"shoes\", \"wallet\", \"keys\", \"phone\", \"card\"]\n",
    "five_elements[3]\n",
    "\n",
    "# appended List\n",
    "five_elements.append(\"Mike n Ike's\")\n",
    "print(five_elements)\n",
    "print(len(five_elements))\n",
    "# The len printed acknowledges the number of elements distinguished\n",
    "\n",
    "del five_elements[4]\n",
    "print(five_elements)\n",
    "\n",
    "five_elements2 = ['shoes', 'wallet', 'keys', 'phone', \"Mike n Ike's\"]\n",
    "\n",
    "# extending both lists\n",
    "five_elements.extend(five_elements2)\n",
    "print(\"Extended list...\", five_elements)\n",
    "\n"
   ]
  },
  {
   "cell_type": "code",
   "execution_count": 15,
   "metadata": {},
   "outputs": [
    {
     "name": "stdout",
     "output_type": "stream",
     "text": [
      "New List: ['wanna', 'roll', 'rock', 'and', 'I']\n",
      "4th List: ['You', 'wanna', 'rock', 'and', 'roll']\n"
     ]
    }
   ],
   "source": [
    "simList = [\"I\", \"wanna\", \"rock\", \"and\", \"roll\"]\n",
    "simList.sort(reverse=True)\n",
    "\n",
    "newList = simList.copy()\n",
    "print(\"New List:\", newList)\n",
    "\n",
    "new3List = ['You', 'wanna', 'rock', 'and', 'roll']\n",
    "\n",
    "new4List = new3List.copy()\n",
    "print(\"4th List:\", new3List)"
   ]
  },
  {
   "cell_type": "code",
   "execution_count": 29,
   "metadata": {},
   "outputs": [
    {
     "name": "stdout",
     "output_type": "stream",
     "text": [
      "['This', 'requires', 'commas', 'and', 'order', 'This', 'requires', 'commas', 'and', 'order', 'This', 'requires', 'commas', 'and', 'order']\n",
      "commas\n",
      "Tuple2 sorted... ['This', 'This', 'This', 'and', 'and', 'and', 'commas', 'commas', 'commas', 'order', 'order', 'order', 'requires', 'requires', 'requires']\n",
      "['This', 'requires', 'commas', 'and', 'order', 'This', 'requires', 'commas', 'and', 'order', 'This', 'requires', 'commas', 'and', 'order']\n",
      "order\n",
      "Tuple packing...\n",
      "cohort This plenty requires black commas other and me order\n",
      "Single tuple  (50,)\n",
      "Newly added tuple  ['This', 'requires', 'commas', 'and', 'order', 'This', 'requires', 'commas', 'and', 'order', 'This', 'requires', 'commas', 'and', 'order', 'This', 'requires', 'commas', 'and', 'order', 'This', 'requires', 'commas', 'and', 'order', 'This', 'requires', 'commas', 'and', 'order']\n"
     ]
    }
   ],
   "source": [
    "# Tuples\n",
    "tuple = [\"This\", \"requires\", \"commas\", \"and\", \"order\"]\n",
    "# multiplying it\n",
    "tuple2 = tuple * 3\n",
    "print(tuple2)\n",
    "\n",
    "print(tuple2[12])\n",
    "print(\"Tuple2 sorted...\", sorted(tuple2))\n",
    "\n",
    "tuple3 = tuple2.copy()\n",
    "print(tuple3)\n",
    "print(tuple3[4])\n",
    "\n",
    "# Packing\n",
    "tuple = (\"This\", \"requires\", \"commas\", \"and\", \"order\")\n",
    "(cohort, plenty, black, other, me) = tuple\n",
    "print(\"Tuple packing...\")\n",
    "print(\"cohort\", cohort, \"plenty\", plenty, \"black\", black, \"other\", other, \"me\", me)\n",
    "\n",
    "# Single tuple\n",
    "tuple4 = (50,)\n",
    "print(\"Single tuple \", tuple4)\n",
    "\n",
    "# adding tuples\n",
    "tuple5 = tuple2 + tuple3\n",
    "print(\"Newly added tuple \", tuple5)"
   ]
  },
  {
   "cell_type": "code",
   "execution_count": 48,
   "metadata": {},
   "outputs": [
    {
     "name": "stdout",
     "output_type": "stream",
     "text": [
      "<class 'set'> = {'peaches', 'apples', 'cantaloupes'}\n",
      "Added car element  {'peaches', 'apples', 'cantaloupes', 'engine'}\n",
      "<class 'set'> = {'shovel', 'harness', 'toothbrush'}\n",
      "{'apples', 'cantaloupes', 'shovel', 'peaches', 'harness', 'toothbrush', 'engine'}\n",
      "Popped element  {'cantaloupes', 'shovel', 'peaches', 'harness', 'toothbrush', 'engine'}\n",
      "set()\n",
      "{'shovel', 'harness', 'toothbrush', 'engine'}\n"
     ]
    }
   ],
   "source": [
    "# 4. Sets\n",
    "fruits = {\"peaches\", \"cantaloupes\", \"apples\"}\n",
    "print(type(fruits), \"=\", fruits)\n",
    "fruits.add(\"engine\")\n",
    "print(\"Added car element \", fruits)\n",
    "\n",
    "# second and third set\n",
    "Odd = {\"toothbrush\", \"shovel\", \"harness\"}\n",
    "print(type(Odd), \"=\", Odd)\n",
    "\n",
    "Set3 = fruits.union(Odd)\n",
    "print(Set3)\n",
    "\n",
    "Set3.pop()\n",
    "print(\"Popped element \", Set3)\n",
    "\n",
    "# clearing first set\n",
    "fruits.clear()\n",
    "print(fruits)\n",
    "\n",
    "Set3.remove(\"peaches\")\n",
    "Set3.remove(\"cantaloupes\")\n",
    "print(Set3)\n"
   ]
  },
  {
   "cell_type": "code",
   "execution_count": 80,
   "metadata": {},
   "outputs": [
    {
     "name": "stdout",
     "output_type": "stream",
     "text": [
      "Sabbath\n",
      "{'Head': 'Phones', 'Kit': 'Kat', 'Bing': 'Bong', 'Tik': 'Tok', 'Black': 'Ricardo'}\n",
      "{'Head': 'Phones', 'Kit': 'Kat', 'Bing': 'Bong', 'Tik': 'Tok', 'Black': 'Ricardo', 'Favorite': 'Red'}\n",
      "{'Head': 'Phones', 'Kit': 'Kat', 'Bing': 'Bong', 'Tik': 'Tok', 'Black': 'Ricardo', 'Favorite': 'Red', ('Jesus', 'Christ', 'Janice'): 'Geez'}\n",
      "{'Head': 'Bean', 'Kit': 'Bit', 'Bing': 'Ching', 'Tik': 'Bik', 'Black': 'Blue', 'Favorite': 'Red', ('Jesus', 'Christ', 'Janice'): 'Geez'}\n",
      "{'Head': 'Bean', 'Kit': 'Bit', 'Bing': 'Ching', 'Tik': 'Bik', 'Black': 'Blue', 'Favorite': 'Red', ('Jesus', 'Christ', 'Janice'): 'Geez', 'Phones': 'Clips', 'Kat': 'Fat', 'Bong': 'Long', 'Tok': 'Shop', 'Sabbath': 'Kittens'}\n",
      "['Bean', 'Bit', 'Ching', 'Bik', 'Blue', 'Red', 'Geez', 'Clips', 'Fat', 'Long', 'Shop', 'Kittens']\n",
      "['Head', 'Kit', 'Bing', 'Tik', 'Black', 'Favorite', ('Jesus', 'Christ', 'Janice'), 'Phones', 'Kat', 'Bong', 'Tok', 'Sabbath']\n",
      "{'Head': 'Bean', 'Kit': 'Bit', 'Bing': 'Ching', 'Tik': 'Bik', 'Black': 'Blue', 'Favorite': 'Red', ('Jesus', 'Christ', 'Janice'): 'Geez', 'Phones': 'Clips', 'Kat': 'Fat', 'Bong': 'Long', 'Tok': 'Shop', 'Sabbath': 'Kittens'}\n",
      "{'Kit': 'Bit', 'Bing': 'Ching', 'Tik': 'Bik', 'Black': 'Blue', 'Favorite': 'Red', ('Jesus', 'Christ', 'Janice'): 'Geez', 'Phones': 'Clips', 'Kat': 'Fat', 'Bong': 'Long', 'Tok': 'Shop', 'Sabbath': 'Kittens'}\n",
      "All clear...  {}\n"
     ]
    }
   ],
   "source": [
    "# 5. Dictionaries\n",
    "eDict = {\"Head\":\"Phones\", \"Kit\":\"Kat\", \"Bing\":\"Bong\", \"Tik\":\"Tok\", \"Black\":\"Sabbath\"}\n",
    "x = eDict.get(\"Black\")\n",
    "print(x)\n",
    "\n",
    "# replacing a value\n",
    "eDict[\"Black\"] = \"Ricardo\"\n",
    "print(eDict)\n",
    "\n",
    "# adding a key:value\n",
    "eDict[\"Favorite\"] = \"Red\"\n",
    "print(eDict)\n",
    "# added list\n",
    "eDict[\"Jesus\", \"Christ\", \"Janice\"] = \"Geez\"\n",
    "print(eDict)\n",
    "# replacing all of the keys\n",
    "eDict[\"Head\"] = \"Bean\"\n",
    "eDict[\"Kit\"] = \"Bit\"\n",
    "eDict[\"Bing\"] = \"Ching\"\n",
    "eDict[\"Tik\"] = \"Bik\"\n",
    "eDict[\"Black\"] = \"Blue\"\n",
    "print(eDict)\n",
    "\n",
    "# replacing all of the values\n",
    "eDict[\"Phones\"] = \"Clips\"\n",
    "eDict[\"Kat\"] = \"Fat\"\n",
    "eDict[\"Bong\"] = \"Long\"\n",
    "eDict[\"Tok\"] = \"Shop\"\n",
    "eDict[\"Sabbath\"] = \"Kittens\"\n",
    "print(eDict) \n",
    "# Full list of values and keys\n",
    "print(list(eDict.values()))\n",
    "print(list(eDict.keys()))\n",
    "\n",
    "eDict2 = eDict.copy()\n",
    "print(eDict2)\n",
    "\n",
    "# popping\n",
    "eDict2.pop(\"Head\")\n",
    "print(eDict2)\n",
    "\n",
    "eDict2.clear()\n",
    "print(\"All clear... \", eDict2)\n",
    "\n",
    "\n",
    "\n",
    "\n"
   ]
  },
  {
   "cell_type": "code",
   "execution_count": null,
   "metadata": {},
   "outputs": [],
   "source": [
    "# Set with curley brackets 5 elements\n",
    "set1 = {\"I\", \"Am\", \"learning\", \"at\", 31, True}\n",
    "print(\"set1 ... \", set1)\n",
    "\n",
    "# Determing length of the list\n",
    "ListLength = len(five_elements)\n",
    "print(\"Size of the list = \", ListLength)\n",
    "\n",
    "# Dictionary\n",
    "eDict = {\"Model\":\"Hyundai\",\"Year\":2011, \"Miles\":133000, \"Condition\":\"Good\", \"Color\":\"White\"} \n",
    "print(eDict)\n"
   ]
  }
 ],
 "metadata": {
  "kernelspec": {
   "display_name": "Python 3",
   "language": "python",
   "name": "python3"
  },
  "language_info": {
   "codemirror_mode": {
    "name": "ipython",
    "version": 3
   },
   "file_extension": ".py",
   "mimetype": "text/x-python",
   "name": "python",
   "nbconvert_exporter": "python",
   "pygments_lexer": "ipython3",
   "version": "3.10.8"
  },
  "orig_nbformat": 4,
  "vscode": {
   "interpreter": {
    "hash": "96521c34a6826c5105397ed6217cdaba6ddefdd418b0839bb311f0f4a885791d"
   }
  }
 },
 "nbformat": 4,
 "nbformat_minor": 2
}

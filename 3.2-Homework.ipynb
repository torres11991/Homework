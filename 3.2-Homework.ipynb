{
 "cells": [
  {
   "cell_type": "code",
   "execution_count": 2,
   "metadata": {},
   "outputs": [
    {
     "name": "stdout",
     "output_type": "stream",
     "text": [
      "set1 ...  {True, 'Am', 'learning', 'I', 'at', 31}\n",
      "Size of the list =  5\n",
      "{'Model': 'Hyundai', 'Year': 2011, 'Miles': 133000, 'Condition': 'Good', 'Color': 'White'}\n"
     ]
    }
   ],
   "source": [
    "# Lists with square brackets\n",
    "five_elements = [\"shoes\", \"wallet\", \"keys\", \"phone\", \"card\"]\n",
    "five_elements[3]\n",
    "\n",
    "# Set with curley brackets 5 elements\n",
    "set1 = {\"I\", \"Am\", \"learning\", \"at\", 31, True}\n",
    "print(\"set1 ... \", set1)\n",
    "\n",
    "# Determing length of the list\n",
    "ListLength = len(five_elements)\n",
    "print(\"Size of the list = \", ListLength)\n",
    "\n",
    "# Dictionary\n",
    "eDict = {\"Model\":\"Hyundai\",\"Year\":2011, \"Miles\":133000, \"Condition\":\"Good\", \"Color\":\"White\"} \n",
    "print(eDict)"
   ]
  },
  {
   "cell_type": "code",
   "execution_count": null,
   "metadata": {},
   "outputs": [],
   "source": []
  }
 ],
 "metadata": {
  "kernelspec": {
   "display_name": "Python 3",
   "language": "python",
   "name": "python3"
  },
  "language_info": {
   "codemirror_mode": {
    "name": "ipython",
    "version": 3
   },
   "file_extension": ".py",
   "mimetype": "text/x-python",
   "name": "python",
   "nbconvert_exporter": "python",
   "pygments_lexer": "ipython3",
   "version": "3.10.8"
  },
  "orig_nbformat": 4,
  "vscode": {
   "interpreter": {
    "hash": "96521c34a6826c5105397ed6217cdaba6ddefdd418b0839bb311f0f4a885791d"
   }
  }
 },
 "nbformat": 4,
 "nbformat_minor": 2
}

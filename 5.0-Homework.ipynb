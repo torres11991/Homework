{
 "cells": [
  {
   "attachments": {},
   "cell_type": "markdown",
   "metadata": {},
   "source": [
    "1. What does Pandas stand for?\n",
    " - Pandas is derived from the phrase 'Panel Data' which refers to a python package used to analyze data.\n",
    "\n",
    "2. What are the 2 collections used in Pandas?\n",
    " - Two collections used within Pandas is 'Series' and 'DataFrame'.\n",
    "\n",
    "3. Name 4 things Pandas can do for us.\n",
    " - data cleaning, normalization, visualization, and inspections\n",
    "\n",
    "4. To permanently sort a DataFrame, which keyword should one use with the `df.sort()` method?\n",
    " - \n",
    "5. What is a CSV\n",
    " - CSV files can be deemed as storages for big data sets that can be referred towards. \n",
    "6. When cleaning data what values do we not like in our data?\n",
    " - Zero, null and corrupted data are values that should be addressed within any addressed datasets."
   ]
  },
  {
   "attachments": {},
   "cell_type": "markdown",
   "metadata": {},
   "source": [
    "### **1. Concatenate these 3 arrays into a new array named 'newArray'...**"
   ]
  },
  {
   "cell_type": "code",
   "execution_count": 2,
   "metadata": {},
   "outputs": [
    {
     "name": "stdout",
     "output_type": "stream",
     "text": [
      "([[25, 16]], ([[11, 2], [13, 4]],), [[7, 81], [5, 6], [11, 12]])\n"
     ]
    }
   ],
   "source": [
    "Arr1 = ([[25, 16]]) \n",
    "Arr2 = ([[11, 2], [13, 4]]),\n",
    "Arr3 = ([[7, 81], [5, 6], [11, 12]])\n",
    "\n",
    "concatenate_newArray = Arr1, Arr2, Arr3\n",
    "print(concatenate_newArray) "
   ]
  },
  {
   "attachments": {},
   "cell_type": "markdown",
   "metadata": {},
   "source": [
    "### **2. Sort 'newArray' in order into 'sorted Array'**"
   ]
  },
  {
   "cell_type": "code",
   "execution_count": 36,
   "metadata": {},
   "outputs": [
    {
     "data": {
      "text/plain": [
       "[[5, 6], [7, 81], [11, 2], [11, 12], [13, 4], [25, 16]]"
      ]
     },
     "execution_count": 36,
     "metadata": {},
     "output_type": "execute_result"
    }
   ],
   "source": [
    "Arr1 = [[25, 16]] \n",
    "Arr2 = [[11, 2], [13, 4]]\n",
    "Arr3 = [[7, 81], [5, 6], [11, 12]]\n",
    "\n",
    "newArray = Arr1 + Arr2 + Arr3\n",
    "sorted(newArray)"
   ]
  },
  {
   "attachments": {},
   "cell_type": "markdown",
   "metadata": {},
   "source": [
    "### **3. Reshape the 'sortedArray' array, into a new array called 'reshapedArray', so it has 2 dimensions with a size of 2, 3.** ###"
   ]
  },
  {
   "cell_type": "code",
   "execution_count": 38,
   "metadata": {},
   "outputs": [
    {
     "name": "stdout",
     "output_type": "stream",
     "text": [
      "[[[ 5  6  7]\n",
      "  [81 11  2]]\n",
      "\n",
      " [[11 12 13]\n",
      "  [ 4 25 16]]]\n"
     ]
    }
   ],
   "source": [
    "import numpy as np\n",
    "\n",
    "Arr1 = [[25, 16]] \n",
    "Arr2 = [[11, 2], [13, 4]]\n",
    "Arr3 = [[7, 81], [5, 6], [11, 12]]\n",
    "\n",
    "newArray = Arr1 + Arr2 + Arr3\n",
    "sortedArray = sorted(newArray)\n",
    "reshapedArray = np.reshape(sortedArray,(2,2,3))\n",
    "print(reshapedArray)"
   ]
  },
  {
   "attachments": {},
   "cell_type": "markdown",
   "metadata": {},
   "source": [
    "### **4. Unpack the array tuples from the above 'reshapedArray'  into 4 well named variables. Print the 4 variables.**"
   ]
  },
  {
   "cell_type": "code",
   "execution_count": 28,
   "metadata": {},
   "outputs": [
    {
     "name": "stdout",
     "output_type": "stream",
     "text": [
      "[5 6 7]\n",
      "[81 11  2]\n",
      "[11 12 13]\n",
      "[ 4 25 16]\n"
     ]
    }
   ],
   "source": [
    "#seperate into two groups\n",
    "(alpha, bravo)  = reshapedArray\n",
    "\n",
    "(alpha_sub1, alpha_sub2) = alpha #break subgroup 1\n",
    "print(alpha_sub1)\n",
    "print(alpha_sub2)\n",
    "\n",
    "(bravo_sub1, bravo_sub2) = bravo #break subgroup 2\n",
    "print(bravo_sub1)\n",
    "print(bravo_sub2)"
   ]
  },
  {
   "attachments": {},
   "cell_type": "markdown",
   "metadata": {},
   "source": [
    "### **5. Combine and sort the following arrays into one called 'comboArray' ...**"
   ]
  },
  {
   "cell_type": "code",
   "execution_count": 68,
   "metadata": {},
   "outputs": [
    {
     "name": "stdout",
     "output_type": "stream",
     "text": [
      "[[0, 1, 2, 3, 4, 5, 6, 7], [10, 11, 12, 13, 14, 15, 16, 17], [20, 21, 22, 23, 24, 25, 26, 27]]\n"
     ]
    }
   ],
   "source": [
    "one = ([10, 11, 12, 13, 14, 15, 16, 17])\n",
    "two = ([20, 21, 22, 23, 24, 25, 26, 27])\n",
    "three = ([ 0, 1, 2, 3, 4, 5, 6, 7])\n",
    "\n",
    "comboArray = (one, two, three)\n",
    "\n",
    "print(sorted(comboArray))"
   ]
  },
  {
   "attachments": {},
   "cell_type": "markdown",
   "metadata": {},
   "source": [
    "### **6. Take 'comboArray' and perform the following slicing activities:**"
   ]
  },
  {
   "cell_type": "code",
   "execution_count": 6,
   "metadata": {},
   "outputs": [
    {
     "name": "stdout",
     "output_type": "stream",
     "text": [
      "[ 0  1  2  3  4  5  6  7 10 11 12 13 14 15 16 17 20 21 22 23 24 25 26 27]\n",
      "2\n",
      "[ 3  4  5  6  7 10 11 12 13 14 15 16 17 20 21 22 23 24 25 26 27]\n",
      "[ 4  5  6  7 10 11 12 13 14 15 16 17]\n",
      "[22 23 24 25 26 27]\n",
      "[11 12 13 14 15 16 17 20 21 22 23 24 25 26]\n",
      "[24 26]\n",
      "[ 0  5 12 17 24]\n"
     ]
    }
   ],
   "source": [
    "import numpy as np\n",
    "one = ([10, 11, 12, 13, 14, 15, 16, 17])\n",
    "two = ([20, 21, 22, 23, 24, 25, 26, 27])\n",
    "three = ([ 0, 1, 2, 3, 4, 5, 6, 7])\n",
    "\n",
    "comboArray = (one, two, three)\n",
    "\n",
    "a, b, c = sorted(comboArray) \n",
    "new = np.concatenate((a, b, c), axis=None)\n",
    "print(new)\n",
    "\n",
    "\n",
    "\n",
    "sec1 = new[2] # the second element\n",
    "print(sec1)\n",
    "\n",
    "sec2 = new[3:]  #all elements from the 3rd element to the last\n",
    "print(sec2)\n",
    "\n",
    "\n",
    "sec3 = new[4:16]  #all elements from the 4th to the 14th elements\n",
    "print(sec3)\n",
    "\n",
    "sec4 = new[18:]  #the last 6 elements\n",
    "print(sec4)\n",
    "\n",
    "sec5 = new[-15:-1]  # all element from #0 up to and including #15, \n",
    "                   # using the negative number method, i.e. taking a section \n",
    "                   # from the end.\n",
    "print(sec5)\n",
    "\n",
    "sec6 = new[20:24:2]\n",
    "print(sec6)  \n",
    "\n",
    "sec7 = new[-24:-1:5]\n",
    "print(sec7)"
   ]
  },
  {
   "attachments": {},
   "cell_type": "markdown",
   "metadata": {},
   "source": [
    "### **7. Using simple math operations, broadcast the addition `(+)`, division `(/)`, and multiplication `(*)` operations for these 2 arrays**"
   ]
  },
  {
   "cell_type": "code",
   "execution_count": 27,
   "metadata": {},
   "outputs": [
    {
     "data": {
      "text/plain": [
       "array([[[ 17.  ,  70.  ,  10.8 ],\n",
       "        [ 27.  ,  80.3 ,  20.71]],\n",
       "\n",
       "       [[ 37.  ,  90.02,  30.8 ],\n",
       "        [ 47.  , 101.  ,  41.  ]],\n",
       "\n",
       "       [[ 57.4 ,  94.  ,  50.7 ],\n",
       "        [ 32.  ,  85.5 ,  36.2 ]]])"
      ]
     },
     "execution_count": 27,
     "metadata": {},
     "output_type": "execute_result"
    }
   ],
   "source": [
    "import numpy as np\n",
    "\n",
    "star = np.array([[[ 0.0,  0.0,  0.10], [10.0, 10.30, 10.01]],\n",
    "        [[20.0, 20.02, 20.10], [30.0, 31.0, 30.30]],\n",
    "        [[40.40, 24.0, 40.0], [15.0, 15.5, 25.5]]])\n",
    "\n",
    "planet = np.array([[17.0, 70.0, 10.7]])\n",
    "\n",
    "star+planet"
   ]
  },
  {
   "attachments": {},
   "cell_type": "markdown",
   "metadata": {},
   "source": [
    "### **7. Continued**"
   ]
  },
  {
   "cell_type": "code",
   "execution_count": 28,
   "metadata": {},
   "outputs": [
    {
     "data": {
      "text/plain": [
       "array([[[0.00000e+00, 0.00000e+00, 1.07000e+00],\n",
       "        [1.70000e+02, 7.21000e+02, 1.07107e+02]],\n",
       "\n",
       "       [[3.40000e+02, 1.40140e+03, 2.15070e+02],\n",
       "        [5.10000e+02, 2.17000e+03, 3.24210e+02]],\n",
       "\n",
       "       [[6.86800e+02, 1.68000e+03, 4.28000e+02],\n",
       "        [2.55000e+02, 1.08500e+03, 2.72850e+02]]])"
      ]
     },
     "execution_count": 28,
     "metadata": {},
     "output_type": "execute_result"
    }
   ],
   "source": [
    "star*planet"
   ]
  },
  {
   "attachments": {},
   "cell_type": "markdown",
   "metadata": {},
   "source": [
    "### **7. Continued**"
   ]
  },
  {
   "cell_type": "code",
   "execution_count": 29,
   "metadata": {},
   "outputs": [
    {
     "data": {
      "text/plain": [
       "array([[[0., 0., 0.],\n",
       "        [0., 0., 0.]],\n",
       "\n",
       "       [[1., 0., 1.],\n",
       "        [1., 0., 2.]],\n",
       "\n",
       "       [[2., 0., 3.],\n",
       "        [0., 0., 2.]]])"
      ]
     },
     "execution_count": 29,
     "metadata": {},
     "output_type": "execute_result"
    }
   ],
   "source": [
    "star//planet"
   ]
  },
  {
   "attachments": {},
   "cell_type": "markdown",
   "metadata": {},
   "source": [
    "### **8. Use the NumPy Arithmetic functions to do the subtraction of the above two arrays in pont**"
   ]
  },
  {
   "cell_type": "code",
   "execution_count": 30,
   "metadata": {},
   "outputs": [
    {
     "data": {
      "text/plain": [
       "array([[[-17.  , -70.  , -10.6 ],\n",
       "        [ -7.  , -59.7 ,  -0.69]],\n",
       "\n",
       "       [[  3.  , -49.98,   9.4 ],\n",
       "        [ 13.  , -39.  ,  19.6 ]],\n",
       "\n",
       "       [[ 23.4 , -46.  ,  29.3 ],\n",
       "        [ -2.  , -54.5 ,  14.8 ]]])"
      ]
     },
     "execution_count": 30,
     "metadata": {},
     "output_type": "execute_result"
    }
   ],
   "source": [
    "star-planet"
   ]
  },
  {
   "attachments": {},
   "cell_type": "markdown",
   "metadata": {},
   "source": [
    "### **9. Using modulo find all elements that are divisible by 3 from the multi-dimensional array under point #7 above.**"
   ]
  },
  {
   "cell_type": "code",
   "execution_count": 86,
   "metadata": {},
   "outputs": [
    {
     "name": "stdout",
     "output_type": "stream",
     "text": [
      "[ 0.  0. 30. 24. 15.]\n",
      "[]\n"
     ]
    }
   ],
   "source": [
    "print(star[star % 3 ==0])\n",
    "print(planet[planet % 3 == 0])"
   ]
  },
  {
   "attachments": {},
   "cell_type": "markdown",
   "metadata": {},
   "source": [
    "### **10. Using `Series`, create a `DataFrame` that looks like this:**"
   ]
  },
  {
   "cell_type": "code",
   "execution_count": 39,
   "metadata": {},
   "outputs": [
    {
     "name": "stdout",
     "output_type": "stream",
     "text": [
      "  Ingredients  Quantity   Unit\n",
      "0       Flour         4   cups\n",
      "1        Milk         1    cup\n",
      "2        Eggs         2  large\n",
      "3        Spam         1    can\n",
      "Name:   Dinner,     dtype: object\n"
     ]
    }
   ],
   "source": [
    "import pandas as pd\n",
    "\n",
    "Ingredients = ['Flour', 'Milk', 'Eggs', 'Spam']\n",
    "Quantity = [4, 1, 2, 1]\n",
    "Unit = ['cups', 'cup', 'large', 'can']\n",
    "\n",
    "# creating the needed series\n",
    "Ingredients_series = pd.Series(Ingredients)\n",
    "Quantity_series = pd.Series(Quantity)\n",
    "Unit_series = pd.Series(Unit)\n",
    "\n",
    "#establishing the dictionary\n",
    "frame = {'Ingredients': Ingredients_series, 'Quantity': Quantity_series, 'Unit': Unit_series}\n",
    "\n",
    "# Creating the dataframe\n",
    "output = pd.DataFrame(frame)\n",
    "print(output)\n",
    "print('Name:   Dinner,     dtype: object')"
   ]
  },
  {
   "attachments": {},
   "cell_type": "markdown",
   "metadata": {},
   "source": [
    "### **11. Take this data and create a DataFrame named studentData**"
   ]
  },
  {
   "cell_type": "code",
   "execution_count": 44,
   "metadata": {},
   "outputs": [
    {
     "name": "stdout",
     "output_type": "stream",
     "text": [
      "Title: studentdata \n",
      "\n",
      "      Name  Height Qualifications  Address  Age        Pets          Sports\n",
      "0      Jai     5.1            Msc    Delhi   21         Dog           Darts\n",
      "1  Janusha     6.2             MA     Doha   23       Bunny      Basketball\n",
      "2   Gaurav     5.1            Msc  Chennai   24  Chinchilla  PaddleBoarding\n",
      "3     Anuj     5.2            Msc   Dakhar   21      Parrot         Cricket\n"
     ]
    }
   ],
   "source": [
    "print(\"Title: studentdata \\n\")\n",
    "\n",
    "import pandas as pd\n",
    "Name = ['Jai', 'Janusha', 'Gaurav', 'Anuj']\n",
    "Height = [5.1, 6.2, 5.1, 5.2]\n",
    "Qualifications = ['Msc', 'MA', 'Msc', 'Msc']\n",
    "Address = ['Delhi', 'Doha', 'Chennai', 'Dakhar']\n",
    "Age = [21, 23, 24, 21]\n",
    "Pets = ['Dog', 'Bunny', 'Chinchilla', 'Parrot']\n",
    "Sports = ['Darts', 'Basketball', 'PaddleBoarding', 'Cricket']\n",
    "\n",
    "Name_series = pd.Series(Name)\n",
    "Height_series = pd.Series(Height)\n",
    "Qualifications_series = pd.Series(Qualifications)\n",
    "Address_series = pd.Series(Address)\n",
    "Age_series = pd.Series(Age)\n",
    "Pets_series = pd.Series(Pets)\n",
    "Sports_series = pd.Series(Sports)\n",
    "\n",
    "frame = {'Name': Name_series, 'Height': Height_series, 'Qualifications': Qualifications_series, 'Address': Address_series, 'Age': Age_series, 'Pets': Pets_series, 'Sports': Sports_series}\n",
    "\n",
    "output = pd.DataFrame(frame)\n",
    "print(output)\n",
    "\n",
    "# It was by this point where lots of points covered began clicking. "
   ]
  },
  {
   "attachments": {},
   "cell_type": "markdown",
   "metadata": {},
   "source": [
    "### **12. Add a new column to the DataFrame with the following deserts:**"
   ]
  },
  {
   "cell_type": "code",
   "execution_count": 45,
   "metadata": {},
   "outputs": [
    {
     "name": "stdout",
     "output_type": "stream",
     "text": [
      "      Name  Height Qualifications  Address  Age        Pets          Sports  \\\n",
      "0      Jai     5.1            Msc    Delhi   21         Dog           Darts   \n",
      "1  Janusha     6.2             MA     Doha   23       Bunny      Basketball   \n",
      "2   Gaurav     5.1            Msc  Chennai   24  Chinchilla  PaddleBoarding   \n",
      "3     Anuj     5.2            Msc   Dakhar   21      Parrot         Cricket   \n",
      "\n",
      "       Desserts  \n",
      "0     Ice Cream  \n",
      "1  Cashew Fudge  \n",
      "2       Waffels  \n",
      "3  Carrot Halwa  \n"
     ]
    }
   ],
   "source": [
    "Name = ['Jai', 'Janusha', 'Gaurav', 'Anuj']\n",
    "Height = [5.1, 6.2, 5.1, 5.2]\n",
    "Qualifications = ['Msc', 'MA', 'Msc', 'Msc']\n",
    "Address = ['Delhi', 'Doha', 'Chennai', 'Dakhar']\n",
    "Age = [21, 23, 24, 21]\n",
    "Pets = ['Dog', 'Bunny', 'Chinchilla', 'Parrot']\n",
    "Sports = ['Darts', 'Basketball', 'PaddleBoarding', 'Cricket']\n",
    "Desserts = [\"Ice Cream\", \"Cashew Fudge\", \"Waffels\", \"Carrot Halwa\"]\n",
    "\n",
    "Name_series = pd.Series(Name)\n",
    "Height_series = pd.Series(Height)\n",
    "Qualifications_series = pd.Series(Qualifications)\n",
    "Address_series = pd.Series(Address)\n",
    "Age_series = pd.Series(Age)\n",
    "Pets_series = pd.Series(Pets)\n",
    "Sports_series = pd.Series(Sports)\n",
    "Desserts_series = pd.Series(Desserts)\n",
    "\n",
    "frame = {'Name': Name_series, 'Height': Height_series, 'Qualifications': Qualifications_series, 'Address': Address_series, 'Age': Age_series, 'Pets': Pets_series, 'Sports': Sports_series, 'Desserts': Desserts_series}\n",
    "\n",
    "output = pd.DataFrame(frame)\n",
    "print(output)"
   ]
  },
  {
   "attachments": {},
   "cell_type": "markdown",
   "metadata": {},
   "source": [
    "### **13. Sort the 'studentData' DataFrame in Ascending order -- Sorting by column 'Name' and then \"address\"**"
   ]
  },
  {
   "cell_type": "code",
   "execution_count": 87,
   "metadata": {},
   "outputs": [
    {
     "name": "stdout",
     "output_type": "stream",
     "text": [
      "      Name  Height Qualifications  Address  Age        Pets          Sports  \\\n",
      "3     Anuj     5.2            Msc   Dakhar   21      Parrot         Cricket   \n",
      "2   Gaurav     5.1            Msc  Chennai   24  Chinchilla  PaddleBoarding   \n",
      "0      Jai     5.1            Msc    Delhi   21         Dog           Darts   \n",
      "1  Janusha     6.2             MA     Doha   23       Bunny      Basketball   \n",
      "\n",
      "       Desserts  \n",
      "3  Carrot Halwa  \n",
      "2       Waffels  \n",
      "0     Ice Cream  \n",
      "1  Cashew Fudge  \n"
     ]
    }
   ],
   "source": [
    "Name = ['Jai', 'Janusha', 'Gaurav', 'Anuj']\n",
    "Height = [5.1, 6.2, 5.1, 5.2]\n",
    "Qualifications = ['Msc', 'MA', 'Msc', 'Msc']\n",
    "Address = ['Delhi', 'Doha', 'Chennai', 'Dakhar']\n",
    "Age = [21, 23, 24, 21]\n",
    "Pets = ['Dog', 'Bunny', 'Chinchilla', 'Parrot']\n",
    "Sports = ['Darts', 'Basketball', 'PaddleBoarding', 'Cricket']\n",
    "Desserts = [\"Ice Cream\", \"Cashew Fudge\", \"Waffels\", \"Carrot Halwa\"]\n",
    "\n",
    "Name_series = pd.Series(Name)\n",
    "Height_series = pd.Series(Height)\n",
    "Qualifications_series = pd.Series(Qualifications)\n",
    "Address_series = pd.Series(Address)\n",
    "Age_series = pd.Series(Age)\n",
    "Pets_series = pd.Series(Pets)\n",
    "Sports_series = pd.Series(Sports)\n",
    "Desserts_series = pd.Series(Desserts)\n",
    "\n",
    "frame = {'Name': Name_series, 'Height': Height_series, 'Qualifications': Qualifications_series, 'Address': Address_series, 'Age': Age_series, 'Pets': Pets_series, 'Sports': Sports_series, 'Desserts': Desserts_series}\n",
    "\n",
    "studentdata = pd.DataFrame(frame)\n",
    "\n",
    "studentdata.sort_values(by = ['Name', 'Address'], inplace=True)\n",
    "print(studentdata)"
   ]
  },
  {
   "attachments": {},
   "cell_type": "markdown",
   "metadata": {},
   "source": [
    "### **14. Save this `DataFrame` here below to disc as a `.CSV` file with the name `cows_and_goats.csv`:python df = pd.DataFrame({'Cows': [12, 20], 'Goats': [22, 19]}, index=['Year 1', 'Year 2'])**"
   ]
  },
  {
   "cell_type": "code",
   "execution_count": 90,
   "metadata": {},
   "outputs": [
    {
     "name": "stdout",
     "output_type": "stream",
     "text": [
      "        Cows  Goats\n",
      "Year 1    12     22\n",
      "Year 2    20     19\n"
     ]
    }
   ],
   "source": [
    "import pandas as pd\n",
    "\n",
    "studentdata.to_csv('cows_and_goats.csv')\n",
    "df = pd.DataFrame({'Cows': [12, 20], 'Goats': [22, 19]}, index=['Year 1', 'Year 2'])\n",
    "print(df)"
   ]
  },
  {
   "attachments": {},
   "cell_type": "markdown",
   "metadata": {},
   "source": [
    "### **15. (A) Using Pandas, make your own .CSV file with data on vegetables and save it. (B) Using Pandas, make a change to your CSV file, and save a copy with a different name.**"
   ]
  },
  {
   "cell_type": "code",
   "execution_count": 78,
   "metadata": {},
   "outputs": [
    {
     "name": "stdout",
     "output_type": "stream",
     "text": [
      "  Vegetable   Color\n",
      "0   Carrots  orange\n",
      "1  Brocolli   green\n"
     ]
    }
   ],
   "source": [
    "# A\n",
    "import pandas as pd\n",
    "\n",
    "veggies = pd.DataFrame([['Carrots', 'orange'], ['Brocolli', 'green']],\n",
    "    columns = ['Vegetable', 'Color']) \n",
    "\n",
    "\n",
    "veggies.to_csv('veggies.csv')\n",
    "print(veggies)"
   ]
  },
  {
   "cell_type": "code",
   "execution_count": 84,
   "metadata": {},
   "outputs": [
    {
     "name": "stdout",
     "output_type": "stream",
     "text": [
      "  Vegetable   Color   Cooked\n",
      "0   Carrots  orange  chopped\n",
      "1  Brocolli   green  steamed\n"
     ]
    }
   ],
   "source": [
    "#B\n",
    "import pandas as pd\n",
    "\n",
    "veggies2 = pd.DataFrame([['Carrots', 'orange', 'chopped'], ['Brocolli', 'green', 'steamed']],\n",
    "    columns = ['Vegetable', 'Color', 'Cooked']) \n",
    "\n",
    "veggies2.to_csv('veggies2_csv')\n",
    "print(veggies2)"
   ]
  }
 ],
 "metadata": {
  "kernelspec": {
   "display_name": "Python 3",
   "language": "python",
   "name": "python3"
  },
  "language_info": {
   "codemirror_mode": {
    "name": "ipython",
    "version": 3
   },
   "file_extension": ".py",
   "mimetype": "text/x-python",
   "name": "python",
   "nbconvert_exporter": "python",
   "pygments_lexer": "ipython3",
   "version": "3.10.8"
  },
  "orig_nbformat": 4,
  "vscode": {
   "interpreter": {
    "hash": "96521c34a6826c5105397ed6217cdaba6ddefdd418b0839bb311f0f4a885791d"
   }
  }
 },
 "nbformat": 4,
 "nbformat_minor": 2
}

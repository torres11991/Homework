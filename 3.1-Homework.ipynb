{
 "cells": [
  {
   "cell_type": "code",
   "execution_count": 2,
   "id": "fa612176",
   "metadata": {},
   "outputs": [
    {
     "name": "stdout",
     "output_type": "stream",
     "text": [
      "    *    \n",
      "   * *   \n",
      "  *   *  \n",
      " *     * \n",
      "*********\n"
     ]
    }
   ],
   "source": [
    "n=5\n",
    "px=n\n",
    "py=n\n",
    "for x in range(1,n+1):\n",
    "    for y in range(1,n*2):\n",
    "        if y==px or y==py or x==n:\n",
    "            print(\"*\", end=\"\")\n",
    "        else: \n",
    "                print(\" \", end=\"\")\n",
    "    py-=1\n",
    "    px+=1\n",
    "    print()"
   ]
  },
  {
   "cell_type": "markdown",
   "id": "635224b6",
   "metadata": {},
   "source": [
    "What is an algorithm?\n",
    "An algorithm is a series of steps to solve a problem at hand.\n",
    "\n",
    "Why is Python considered to be a high-level language?\n",
    "As opposed to computers, humans can utilize high-level coding language via Python which has a variety of capabilities.\n",
    "\n",
    "Is Python a Natural or a Formal language?\n",
    "Due to pythons wide capability of developing, interpreting and concluding information, it is more of a natural language.\n",
    "\n",
    "Natural language is deemed a communicative langugage that is as natural as spoken or written words such as slang.\n",
    "\n",
    "Commands are placed in the terminal and best to avoid complexity due to its complicated nature. \n",
    "\n",
    "Variable names may not start with certain characters - name two.\n",
    "Boolean such as a True or False code.\n",
    "Tuple is a concrete code that cannot be manipulated.\n",
    "\n",
    "What is a Semantic error?\n",
    "Code may not have a typed errors; however it does not make sense so the user gets an error message.\n",
    "\n",
    "What is the #1 rule of coding / debugging?\n",
    "Complexity is the enemy of efficiency.\n",
    "\n",
    "list 5 Python reserved words.\n",
    "True, False, is, or, elif\n",
    "\n",
    "add and name, a web link for any Python coding article, in your markdown cell"
   ]
  },
  {
   "attachments": {},
   "cell_type": "markdown",
   "id": "86d4159c",
   "metadata": {},
   "source": [
    "3.1 HW \n",
    "- Write a multi-line comment with your name, favorite food, and dream job on 3 different lines.\n",
    "\n",
    "- Assign 5 different data types to 5 different variables. At least one datatype must be a string.\n",
    "\n",
    "- print the length of your string.\n",
    "\n",
    "- print the the index value of the 4th character in your string.\n",
    "\n",
    "- create a new variable called savvy, and assign it the string with this phrase \"Learning Data Analytics and Python is Awesome!\"\n",
    "\n",
    "- return a range of characters that slices the above string from the beginning of \"ing\" up to before \"and\"\n",
    "\n",
    "- Replace \"Awesome\" with \"great\" in the string\n",
    "\n",
    "- Test and print the savvy string to see it contains \"Python\"\n",
    "\n",
    "- Create and assign 3 more variables called name, age and length using the multi-variable naming method.\n",
    "\n",
    "- Format a new string called 'miniBio' using variables in curly brackets to complete this phrase... \"Hi my name is (name), I am (tall) and (so) old today.\"\n",
    "\n",
    "- print 'miniBio'\n",
    "\n",
    "- cast and print the age variable to a float."
   ]
  },
  {
   "cell_type": "code",
   "execution_count": 4,
   "id": "86538cf6",
   "metadata": {},
   "outputs": [
    {
     "name": "stdout",
     "output_type": "stream",
     "text": [
      "My name is Ricardo Torres and my favorite foods are Mexican Food while my dream job is Any career with strong work ethic coworkers.\n",
      "Hi, I have been a medic for the last 11yrs in need of some change.\n",
      "When I breached the age of 31 was when my body began breaking down.\n",
      "11/9\n",
      "The length of dream_job is... 44\n",
      "The 4th element of dream_job is  c\n",
      "Savvy\n",
      "Learning Data Analytics and Python is Awesome!\n",
      "ing Data Analytics \n",
      "Learning Data Analytics and Python is great!\n",
      "My name is Ricardo T., I am 31 years old.\n",
      "41\n",
      "Hello my name is, miniBio. You are 31.\n"
     ]
    }
   ],
   "source": [
    "name = (\"Ricardo Torres\")\n",
    "favorite_food = (\"Mexican Food\")\n",
    "dream_job = (\"Any career with strong work ethic coworkers.\")\n",
    "print(\"My name is \" + name + \" and my favorite foods are \" + favorite_food + \" while my dream job is \" + dream_job)\n",
    "\n",
    "print(\"Hi, I have been a medic for the last 11yrs in need of some change.\")\n",
    "age = 31\n",
    "birth_date = str(\"11/9\")\n",
    "print(\"When I breached the age of \" + str(age) + \" was when my body began breaking down.\")\n",
    "print(birth_date)\n",
    "\n",
    "print(\"The length of dream_job is...\", len(dream_job))\n",
    "print(\"The 4th element of dream_job is \", dream_job[4])\n",
    "a = \"Savvy\"\n",
    "b = \"Learning Data Analytics and Python is Awesome!\"\n",
    "print(a)\n",
    "print(b)\n",
    "print(b[5:24])\n",
    "print(b.replace(\"Awesome\", \"great\"))\n",
    "\n",
    "name = \"Ricardo T.\"\n",
    "age = \"31\"\n",
    "txt = \"My name is \" + name + \", I am \" + age + \" years old.\"\n",
    "print(txt)\n",
    "print(len(txt))\n",
    "\n",
    "name = 'miniBio'\n",
    "age = 31\n",
    "height = \"5ft 8in\"\n",
    "print(f\"Hello my name is, {name}. You are {age}.\")\n",
    "\n",
    "age = float(31)"
   ]
  },
  {
   "cell_type": "code",
   "execution_count": null,
   "id": "63c64218",
   "metadata": {},
   "outputs": [],
   "source": []
  }
 ],
 "metadata": {
  "kernelspec": {
   "display_name": "Python 3 (ipykernel)",
   "language": "python",
   "name": "python3"
  },
  "language_info": {
   "codemirror_mode": {
    "name": "ipython",
    "version": 3
   },
   "file_extension": ".py",
   "mimetype": "text/x-python",
   "name": "python",
   "nbconvert_exporter": "python",
   "pygments_lexer": "ipython3",
   "version": "3.10.8"
  },
  "vscode": {
   "interpreter": {
    "hash": "96521c34a6826c5105397ed6217cdaba6ddefdd418b0839bb311f0f4a885791d"
   }
  }
 },
 "nbformat": 4,
 "nbformat_minor": 5
}

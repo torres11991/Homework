{
 "cells": [
  {
   "cell_type": "code",
   "execution_count": null,
   "metadata": {},
   "outputs": [],
   "source": [
    "### **1. & 2. What does one need to do to use a module?**"
   ]
  },
  {
   "attachments": {},
   "cell_type": "markdown",
   "metadata": {},
   "source": [
    "- In order to utilize a module, the user must import that respective module with the appropriate resources the user is needing to reference such as: import Numpy or import Math.\n",
    "\n",
    "- Name a Module (not the DateTime Nodule) we looked at and write a line or 2 of code as an example using this module."
   ]
  },
  {
   "cell_type": "code",
   "execution_count": 3,
   "metadata": {},
   "outputs": [
    {
     "name": "stdout",
     "output_type": "stream",
     "text": [
      "[1 3 2]\n"
     ]
    }
   ],
   "source": [
    "### **2. CONTINUED**\n",
    "import numpy as np \n",
    "a = np.array([1, 3 , 2])\n",
    "print(a)\n",
    "# this is a vector with three rows and two columns"
   ]
  },
  {
   "cell_type": "code",
   "execution_count": null,
   "metadata": {},
   "outputs": [],
   "source": [
    "### **3. What is a benefit of using Exception handling?**"
   ]
  },
  {
   "attachments": {},
   "cell_type": "markdown",
   "metadata": {},
   "source": [
    "\n",
    "- Rather than run a command that results in an error message, one can input an exception block that can allow the user to run past the error. "
   ]
  },
  {
   "cell_type": "code",
   "execution_count": null,
   "metadata": {},
   "outputs": [],
   "source": [
    "### **4. NumPy arrays are like what Python data type?**"
   ]
  },
  {
   "attachments": {},
   "cell_type": "markdown",
   "metadata": {},
   "source": [
    "\n",
    "-Arrays sharing a commonality with lists.They are both mutable and can store multiple elements; however, arrays can store only the same data type whereas a list can store various data types together."
   ]
  },
  {
   "cell_type": "code",
   "execution_count": null,
   "metadata": {},
   "outputs": [],
   "source": [
    "### **5. What is one of the main benefits of using NumPy arrays?**"
   ]
  },
  {
   "attachments": {},
   "cell_type": "markdown",
   "metadata": {},
   "source": [
    "-NumPy arrays can store a large amount of data without taking more data storage. Arrays can also be used to reference algorithms or codes alleviating the mundane repititiveness of typing the same code over and over. "
   ]
  },
  {
   "cell_type": "code",
   "execution_count": null,
   "metadata": {},
   "outputs": [],
   "source": [
    "### **6. What is one of the main requirements about the 'dtype' of NumPy arrays?**"
   ]
  },
  {
   "attachments": {},
   "cell_type": "markdown",
   "metadata": {},
   "source": [
    "- dtypes can only be used within NumPy due to its vast array of numerical coding references it has compared to python. "
   ]
  },
  {
   "cell_type": "code",
   "execution_count": null,
   "metadata": {},
   "outputs": [],
   "source": [
    "### **7. Of the 10 uses of NumPy, name 2.**"
   ]
  },
  {
   "attachments": {},
   "cell_type": "markdown",
   "metadata": {},
   "source": [
    " - Utilization of arrays and the ability to create and condensce your own developed coding.\n",
    "    - The modules in which a user can store such arrays within. There is utility in referencing modules due to its already established vast library or codes."
   ]
  },
  {
   "cell_type": "code",
   "execution_count": null,
   "metadata": {},
   "outputs": [],
   "source": [
    "### **8. Name one of the other libraries we'll use with NumPy?**"
   ]
  },
  {
   "attachments": {},
   "cell_type": "markdown",
   "metadata": {},
   "source": [
    "\n",
    "- A common library that will be used as a data analyst includes Matplotlib or Beautiful Soup to develop visualizations or extract data from the web."
   ]
  },
  {
   "cell_type": "code",
   "execution_count": null,
   "metadata": {},
   "outputs": [],
   "source": [
    "### **9. What is the shape of NumPy arrays?**"
   ]
  },
  {
   "attachments": {},
   "cell_type": "markdown",
   "metadata": {},
   "source": [
    "- The shape refers to the number of elements within a dimension which can stack to create a 3-dimensional figure or can be miniscule resulting in a vector or a single dimensional block."
   ]
  },
  {
   "cell_type": "code",
   "execution_count": null,
   "metadata": {},
   "outputs": [],
   "source": [
    "### **10. What is a Tensor?**"
   ]
  },
  {
   "attachments": {},
   "cell_type": "markdown",
   "metadata": {},
   "source": [
    "\n",
    "- A tensor depicts a dimension with three or more axises."
   ]
  },
  {
   "cell_type": "code",
   "execution_count": null,
   "metadata": {},
   "outputs": [],
   "source": [
    "\n",
    "### **11. Name a reason why it's better using  NumPy for Data Analysis than using a Python List?**"
   ]
  },
  {
   "attachments": {},
   "cell_type": "markdown",
   "metadata": {},
   "source": [
    "\n",
    "- NumPy is faster which allows for more conveniency in its utility. NumPy also uses less memory space than Python list may. "
   ]
  },
  {
   "cell_type": "code",
   "execution_count": null,
   "metadata": {},
   "outputs": [],
   "source": [
    "### **12. When creating an \"empty\" array, where do the elements come from?**"
   ]
  },
  {
   "attachments": {},
   "cell_type": "markdown",
   "metadata": {},
   "source": [
    "- An element within an array are either derived from another module or created by the user. The compilation of elements within an array are all of the same type such as strings, integers, or floats. \n"
   ]
  },
  {
   "attachments": {},
   "cell_type": "markdown",
   "metadata": {},
   "source": [
    "### **13. DateTime**"
   ]
  },
  {
   "cell_type": "code",
   "execution_count": 1,
   "metadata": {},
   "outputs": [
    {
     "data": {
      "text/plain": [
       "datetime.datetime(2023, 2, 17, 9, 25, 7, 799600)"
      ]
     },
     "execution_count": 1,
     "metadata": {},
     "output_type": "execute_result"
    }
   ],
   "source": [
    "import datetime as d \n",
    "meow = d.datetime.now()\n",
    "meow"
   ]
  },
  {
   "attachments": {},
   "cell_type": "markdown",
   "metadata": {},
   "source": [
    "### **14. Printing the full month name**"
   ]
  },
  {
   "cell_type": "code",
   "execution_count": 15,
   "metadata": {},
   "outputs": [
    {
     "name": "stdout",
     "output_type": "stream",
     "text": [
      "February\n",
      "\n"
     ]
    }
   ],
   "source": [
    "print(meow.strftime(\"%B\\n\"))"
   ]
  },
  {
   "attachments": {},
   "cell_type": "markdown",
   "metadata": {},
   "source": [
    "### **15.** Write a simple function that takes 2 parameters -- a  first name and a day name.\n",
    " - Set a default value for the day name of Sunday.\n",
    "    - Have the function print out a greeting -- using the parameters -- that says something like \"Hi first-name! Happy day-name!\". Remember to use the variables in the greeting to replace first-name and day-name.  \n",
    "    - Invoke this function with 2 variables.\n",
    "    - Invoke this function with 1 variable only."
   ]
  },
  {
   "cell_type": "code",
   "execution_count": 22,
   "metadata": {},
   "outputs": [
    {
     "name": "stdout",
     "output_type": "stream",
     "text": [
      "Hey Ricardo, Happy Friday.\n",
      "Hey Johan, Happy Friday.\n"
     ]
    }
   ],
   "source": [
    "def greet(first_name, day=\"Friday\"):\n",
    "    print(f\"Hey {first_name}, Happy {day}.\")\n",
    "greet('Ricardo', 'Friday')\n",
    "greet('Johan')"
   ]
  },
  {
   "attachments": {},
   "cell_type": "markdown",
   "metadata": {},
   "source": [
    "### **16. Import NumPy, use one of the NumPy methods and create an array with a shape of ... (2, 3, 2). You can use the reshape method -- `.reshape()`**"
   ]
  },
  {
   "cell_type": "code",
   "execution_count": 29,
   "metadata": {},
   "outputs": [
    {
     "name": "stdout",
     "output_type": "stream",
     "text": [
      "[[[ 1  2]\n",
      "  [ 3  4]\n",
      "  [ 5  6]]\n",
      "\n",
      " [[ 7  8]\n",
      "  [ 9 10]\n",
      "  [11 12]]]\n"
     ]
    }
   ],
   "source": [
    "import numpy as n\n",
    "bot = n.array([[[1, 2], [3, 4], [5, 6]], [[7, 8], [9, 10], [11, 12]]])\n",
    "\n",
    "# Reshaping the array to have shape (2, 3, 2)\n",
    "reshaped_bots = bot.reshape((2, 3, 2))\n",
    "\n",
    "print(reshaped_bots)"
   ]
  },
  {
   "cell_type": "code",
   "execution_count": null,
   "metadata": {},
   "outputs": [],
   "source": [
    "### **17. Use NumPy `.linspace()` to create an array with 6 linearly spaced values between 0 and 20**"
   ]
  },
  {
   "cell_type": "code",
   "execution_count": 12,
   "metadata": {},
   "outputs": [
    {
     "name": "stdout",
     "output_type": "stream",
     "text": [
      "[ 0.  4.  8. 12. 16. 20.]\n",
      "[ 0.  4.  8. 12. 16. 20.]\n"
     ]
    }
   ],
   "source": [
    "import numpy as n \n",
    "\n",
    "\n",
    "sox = n.linspace(0, 20, 6)\n",
    "print(sox)"
   ]
  },
  {
   "attachments": {},
   "cell_type": "markdown",
   "metadata": {},
   "source": [
    "\n",
    "### **18. Make a Deep Copy of the above array you created.**"
   ]
  },
  {
   "cell_type": "code",
   "execution_count": 13,
   "metadata": {},
   "outputs": [
    {
     "name": "stdout",
     "output_type": "stream",
     "text": [
      "[ 0.  4.  8. 12. 16. 20.]\n",
      "[ 0.  4.  8. 12. 16. 20.]\n"
     ]
    }
   ],
   "source": [
    "import numpy as n \n",
    "\n",
    "\n",
    "sox = n.linspace(0, 20, 6)\n",
    "print(sox)\n",
    "\n",
    "### **18. Make a Deep Copy of the above array you created.**\n",
    "sox = n.linspace(0, 20, 6)\n",
    "joe = copy.deepcopy(sox)\n",
    "print(joe)"
   ]
  },
  {
   "attachments": {},
   "cell_type": "markdown",
   "metadata": {},
   "source": [
    "### **19. What are 2 reasons we use NumPy arrays over Python Lists**\n",
    "NumPy arrays are faster and easier to reference with various data types condensced. \n",
    "NumPy arrays take up less memory space than a list requires. "
   ]
  }
 ],
 "metadata": {
  "kernelspec": {
   "display_name": "Python 3",
   "language": "python",
   "name": "python3"
  },
  "language_info": {
   "codemirror_mode": {
    "name": "ipython",
    "version": 3
   },
   "file_extension": ".py",
   "mimetype": "text/x-python",
   "name": "python",
   "nbconvert_exporter": "python",
   "pygments_lexer": "ipython3",
   "version": "3.10.8"
  },
  "orig_nbformat": 4,
  "vscode": {
   "interpreter": {
    "hash": "96521c34a6826c5105397ed6217cdaba6ddefdd418b0839bb311f0f4a885791d"
   }
  }
 },
 "nbformat": 4,
 "nbformat_minor": 2
}

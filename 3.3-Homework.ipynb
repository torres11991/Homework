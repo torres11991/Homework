{
 "cells": [
  {
   "attachments": {},
   "cell_type": "markdown",
   "metadata": {},
   "source": [
    "- Give a short statement about the contents of the dataset(s) and how this fits with your topic.\n",
    "\n",
    "    Datasets can be thought of as written paragraphs whereas each may share or incorporate their own unique theme that all ultimately result in a story. \n",
    "    In relation to my own capstone topic, there are studies with datasets that support the overall message that there is a correlation between anxiety and gaming. Like any study, there is a compilation of data organized together to tell a story.\n",
    "\n",
    "- Know and understand, how and why one would use Python and Jupiter Notebooks for Data Analytics, and for your Capstone project.\n",
    "\n",
    "    Python in conjuction with Jupyter Notebook has proven itself reliable where its utility encompasses various commands as well as adding markers or notes alongside each command or seperate from. As distinguished thus far, the system allows for high-level language that expands upon potential results."
   ]
  }
 ],
 "metadata": {
  "kernelspec": {
   "display_name": "Python 3",
   "language": "python",
   "name": "python3"
  },
  "language_info": {
   "name": "python",
   "version": "3.10.8"
  },
  "orig_nbformat": 4,
  "vscode": {
   "interpreter": {
    "hash": "96521c34a6826c5105397ed6217cdaba6ddefdd418b0839bb311f0f4a885791d"
   }
  }
 },
 "nbformat": 4,
 "nbformat_minor": 2
}

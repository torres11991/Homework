{
 "cells": [
  {
   "attachments": {},
   "cell_type": "markdown",
   "metadata": {},
   "source": [
    "- Give a short statement about the contents of the dataset(s) and how this fits with your topic.\n",
    "\n",
    "    Datasets can be thought of as written paragraphs whereas each may share or incorporate their own unique theme that all ultimately result in a story. \n",
    "    In relation to my own capstone topic, there are studies with datasets that support the overall message that there is a correlation between anxiety and gaming. Like any study, there is a compilation of data organized together to tell a story.\n",
    "\n",
    "- Know and understand, how and why one would use Python and Jupiter Notebooks for Data Analytics, and for your Capstone project.\n",
    "\n",
    "    Python in conjuction with Jupyter Notebook has proven itself reliable where its utility encompasses various commands as well as adding markers or notes alongside each command or seperate. As distinguished thus far, the system allows for high-level language that expands upon potential results. In relation to my capstone, Python and Jupyter can distinguish the code used as well as providing the user the capability of alleviating unnecessary data or adding more information. "
   ]
  },
  {
   "cell_type": "code",
   "execution_count": 112,
   "metadata": {},
   "outputs": [
    {
     "name": "stdout",
     "output_type": "stream",
     "text": [
      "Renting a car is more affordable.\n"
     ]
    }
   ],
   "source": [
    "# if statement\n",
    "Age = 31\n",
    "if Age >= 25:\n",
    "  print(\"Renting a car is more affordable.\")\n",
    "if Age <= 25:\n",
    "  print(\"Renting a car is expensive.\")\n",
    "\n",
    "# if else statement\n",
    "Age = 20\n",
    "if Age >= 25:\n",
    "     print(\"Renting a car is more affordable.\")\n",
    "     if Age < 25 and Age >= 18: print(\"Renting a car is very expensive.\")\n",
    "     else: print(\"You cannot legally rent a car.\")\n",
    "\n"
   ]
  },
  {
   "cell_type": "code",
   "execution_count": 49,
   "metadata": {},
   "outputs": [
    {
     "name": "stdout",
     "output_type": "stream",
     "text": [
      "e\n",
      "u\n",
      "i\n",
      "o\n",
      "o\n",
      "u\n",
      "o\n",
      "e\n",
      "e\n",
      "a\n",
      "o\n"
     ]
    }
   ],
   "source": [
    "  \n",
    "# 3. pulling for these vowels\n",
    "Savvy = \"The quick brown fox jumps over the lazy dog.\"\n",
    "vowels = \"aeiouAEIOU\" \n",
    "for letters in Savvy:\n",
    "    if letters in vowels[0:9]:    \n",
    "     print(letters)\n",
    "\n"
   ]
  },
  {
   "cell_type": "code",
   "execution_count": 54,
   "metadata": {},
   "outputs": [
    {
     "name": "stdout",
     "output_type": "stream",
     "text": [
      "trousers in fuchsia\n",
      "trousers in maple\n",
      "trousers in cerise\n",
      "trousers in auburn\n",
      "trousers in gunMetal blue\n",
      "trousers in Dark Sapphire\n",
      "trousers in aqua\n",
      "trousers in burnt sienna\n",
      "blouse in fuchsia\n",
      "blouse in maple\n",
      "blouse in cerise\n",
      "blouse in auburn\n",
      "blouse in gunMetal blue\n",
      "blouse in Dark Sapphire\n",
      "blouse in aqua\n",
      "blouse in burnt sienna\n",
      "bandana in fuchsia\n",
      "bandana in maple\n",
      "bandana in cerise\n",
      "bandana in auburn\n",
      "bandana in gunMetal blue\n",
      "bandana in Dark Sapphire\n",
      "bandana in aqua\n",
      "bandana in burnt sienna\n",
      "cumber band in fuchsia\n",
      "cumber band in maple\n",
      "cumber band in cerise\n",
      "cumber band in auburn\n",
      "cumber band in gunMetal blue\n",
      "cumber band in Dark Sapphire\n",
      "cumber band in aqua\n",
      "cumber band in burnt sienna\n",
      "blazer in fuchsia\n",
      "blazer in maple\n",
      "blazer in cerise\n",
      "blazer in auburn\n",
      "blazer in gunMetal blue\n",
      "blazer in Dark Sapphire\n",
      "blazer in aqua\n",
      "blazer in burnt sienna\n",
      "vest in fuchsia\n",
      "vest in maple\n",
      "vest in cerise\n",
      "vest in auburn\n",
      "vest in gunMetal blue\n",
      "vest in Dark Sapphire\n",
      "vest in aqua\n",
      "vest in burnt sienna\n",
      "french beret in fuchsia\n",
      "french beret in maple\n",
      "french beret in cerise\n",
      "french beret in auburn\n",
      "french beret in gunMetal blue\n",
      "french beret in Dark Sapphire\n",
      "french beret in aqua\n",
      "french beret in burnt sienna\n",
      "scarf in fuchsia\n",
      "scarf in maple\n",
      "scarf in cerise\n",
      "scarf in auburn\n",
      "scarf in gunMetal blue\n",
      "scarf in Dark Sapphire\n",
      "scarf in aqua\n",
      "scarf in burnt sienna\n",
      "stole in fuchsia\n",
      "stole in maple\n",
      "stole in cerise\n",
      "stole in auburn\n",
      "stole in gunMetal blue\n",
      "stole in Dark Sapphire\n",
      "stole in aqua\n",
      "stole in burnt sienna\n"
     ]
    }
   ],
   "source": [
    "# 4. Nested loop\n",
    "couture = [\"trousers\", \"blouse\", \"bandana\", \"cumber band\", \"blazer\", \"vest\", \"french beret\", \"scarf\", \"stole\"]\n",
    "panettone = {\"cerise\", \"fuchsia\", \"aqua\", \"maple\", \"auburn\", \"burnt sienna\", \"gunMetal blue\", \"Dark Sapphire\"}\n",
    "\n",
    "for clothing in couture:\n",
    "  for color in panettone:\n",
    "    print(clothing + \" in \" + color)"
   ]
  },
  {
   "cell_type": "code",
   "execution_count": 58,
   "metadata": {},
   "outputs": [
    {
     "name": "stdout",
     "output_type": "stream",
     "text": [
      "The sum of all numbers from 1 to 100 is 5050\n"
     ]
    }
   ],
   "source": [
    "# 5. \n",
    "sum = 0\n",
    "for i in range(1, 101):\n",
    "    sum += i\n",
    "print(\"The sum of all numbers from 1 to 100 is\", sum)"
   ]
  },
  {
   "cell_type": "code",
   "execution_count": 111,
   "metadata": {},
   "outputs": [
    {
     "name": "stdout",
     "output_type": "stream",
     "text": [
      "banana\n",
      "banana\n"
     ]
    },
    {
     "data": {
      "text/plain": [
       "'banana'"
      ]
     },
     "execution_count": 111,
     "metadata": {},
     "output_type": "execute_result"
    }
   ],
   "source": [
    "# 6. Print the second item in this fruits list.\n",
    "fox = [\"apple\", \"banana\", \"cherry\"]\n",
    "print(\"banana\")\n",
    "\n",
    "# OR\n",
    "\n",
    "fox = [\"apple\", \"banana\", \"cherry\"]\n",
    "for x in fox:\n",
    "    if x == \"banana\":\n",
    "     print(x)\n",
    "\n",
    "# OR\n",
    "fox = [\"apple\", \"banana\", \"cherry\"]\n",
    "fox[1]"
   ]
  },
  {
   "cell_type": "code",
   "execution_count": 63,
   "metadata": {},
   "outputs": [
    {
     "name": "stdout",
     "output_type": "stream",
     "text": [
      "['kiwi', 'banana', 'cherry']\n"
     ]
    }
   ],
   "source": [
    "# 7. Change the value from \"apple\" to \"kiwi\", in the fruits list\n",
    "sheesh = [\"apple\", \"banana\", \"cherry\"]\n",
    "sheesh[0] = \"kiwi\"\n",
    "print(sheesh)\n"
   ]
  },
  {
   "cell_type": "code",
   "execution_count": 64,
   "metadata": {},
   "outputs": [
    {
     "name": "stdout",
     "output_type": "stream",
     "text": [
      "['apple', 'banana', 'cherry', 'orange']\n"
     ]
    }
   ],
   "source": [
    "# 8. Use the append method to add \"orange\" to the fruits list.\n",
    "tots = [\"apple\", \"banana\", \"cherry\"]\n",
    "tots.append(\"orange\")\n",
    "print(tots)"
   ]
  },
  {
   "cell_type": "code",
   "execution_count": 66,
   "metadata": {},
   "outputs": [
    {
     "name": "stdout",
     "output_type": "stream",
     "text": [
      "['apple', 'lemon', 'banana', 'cherry']\n"
     ]
    }
   ],
   "source": [
    "# 9. Use the insert method to add \"lemon\" as the second item in the fruits list.\n",
    "fish = [\"apple\", \"banana\", \"cherry\"]\n",
    "fish.insert(1, \"lemon\")\n",
    "print(fish)\n"
   ]
  },
  {
   "cell_type": "code",
   "execution_count": 67,
   "metadata": {},
   "outputs": [
    {
     "name": "stdout",
     "output_type": "stream",
     "text": [
      "['apple', 'cherry']\n"
     ]
    }
   ],
   "source": [
    "# 10. Use the remove method to remove \"banana\" from the fruits list.\n",
    "dog = [\"apple\", \"banana\", \"cherry\"]\n",
    "dog.remove(\"banana\")\n",
    "print(dog)"
   ]
  },
  {
   "cell_type": "code",
   "execution_count": 89,
   "metadata": {},
   "outputs": [
    {
     "name": "stdout",
     "output_type": "stream",
     "text": [
      "melon\n",
      "kiwi\n"
     ]
    }
   ],
   "source": [
    "# 11. Use negative indexing to print the 3rd and 2nd to last items in the list.\n",
    "box = [\"apple\", \"banana\", \"cherry\", \"orange\", \"kiwi\", \"melon\", \"mango\"]\n",
    "print(box[-2])\n",
    "print(box[-3])"
   ]
  },
  {
   "cell_type": "code",
   "execution_count": 96,
   "metadata": {},
   "outputs": [
    {
     "name": "stdout",
     "output_type": "stream",
     "text": [
      "['orange', 'kiwi', 'melon']\n"
     ]
    }
   ],
   "source": [
    "# 12. Use a range of indexes to print the third, fourth, and fifth item in the list.\n",
    "pup = [\"apple\", \"banana\", \"cherry\", \"orange\", \"kiwi\", \"melon\", \"mango\"]\n",
    "print(pup[3:6])"
   ]
  },
  {
   "cell_type": "code",
   "execution_count": 97,
   "metadata": {},
   "outputs": [
    {
     "name": "stdout",
     "output_type": "stream",
     "text": [
      "7\n"
     ]
    }
   ],
   "source": [
    "# 13. Use the correct syntax to print the number of items in the list.\n",
    "bot = [\"apple\", \"banana\", \"cherry\", \"orange\", \"kiwi\", \"melon\", \"mango\"]\n",
    "print(len(bot))"
   ]
  },
  {
   "cell_type": "code",
   "execution_count": 110,
   "metadata": {},
   "outputs": [
    {
     "name": "stdout",
     "output_type": "stream",
     "text": [
      "['orange', 'melon', 'mango', 'kiwi', 'cherry', 'banana', 'apple']\n"
     ]
    }
   ],
   "source": [
    "# 14. Use the correct syntax to sort this list in reverse order\n",
    "cow = [\"apple\", \"banana\", \"cherry\", \"orange\", \"kiwi\", \"melon\", \"mango\"]\n",
    "cow.sort(reverse=True)\n",
    "print(cow)\n",
    "# this is in alphabetical"
   ]
  },
  {
   "cell_type": "code",
   "execution_count": null,
   "metadata": {},
   "outputs": [],
   "source": []
  }
 ],
 "metadata": {
  "kernelspec": {
   "display_name": "Python 3",
   "language": "python",
   "name": "python3"
  },
  "language_info": {
   "codemirror_mode": {
    "name": "ipython",
    "version": 3
   },
   "file_extension": ".py",
   "mimetype": "text/x-python",
   "name": "python",
   "nbconvert_exporter": "python",
   "pygments_lexer": "ipython3",
   "version": "3.10.8"
  },
  "orig_nbformat": 4,
  "vscode": {
   "interpreter": {
    "hash": "96521c34a6826c5105397ed6217cdaba6ddefdd418b0839bb311f0f4a885791d"
   }
  }
 },
 "nbformat": 4,
 "nbformat_minor": 2
}
